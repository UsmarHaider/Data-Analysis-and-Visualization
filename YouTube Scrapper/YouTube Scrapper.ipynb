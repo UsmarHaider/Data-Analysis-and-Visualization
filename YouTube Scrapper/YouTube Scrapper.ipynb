{
 "cells": [
  {
   "cell_type": "code",
   "execution_count": 1,
   "id": "d5e24ef9-e315-4ac2-b14f-32450b430970",
   "metadata": {},
   "outputs": [],
   "source": [
    "import selenium"
   ]
  },
  {
   "cell_type": "code",
   "execution_count": 2,
   "id": "fe948d6d-b51a-439c-af5f-f38ec3460834",
   "metadata": {},
   "outputs": [],
   "source": [
    "from selenium import webdriver"
   ]
  },
  {
   "cell_type": "code",
   "execution_count": 3,
   "id": "ed9bd88d-a06c-479e-9041-56bdfc14ba2a",
   "metadata": {},
   "outputs": [],
   "source": [
    "Driver_path = 'C:/Users/Inspiron/Downloads/chromedriver.exe'"
   ]
  },
  {
   "cell_type": "code",
   "execution_count": 4,
   "id": "d5d1f150-71ba-4a3e-bafb-31e2cbcf965d",
   "metadata": {},
   "outputs": [
    {
     "name": "stderr",
     "output_type": "stream",
     "text": [
      "C:\\Users\\Inspiron\\AppData\\Local\\Temp\\ipykernel_5112\\4171860955.py:1: DeprecationWarning: executable_path has been deprecated, please pass in a Service object\n",
      "  driver = webdriver.Chrome(Driver_path)\n"
     ]
    }
   ],
   "source": [
    "driver = webdriver.Chrome(Driver_path)"
   ]
  },
  {
   "cell_type": "code",
   "execution_count": 5,
   "id": "4114d566-3e58-4dbb-b353-e3b1d45a9265",
   "metadata": {},
   "outputs": [],
   "source": [
    "urlPath = 'https://www.youtube.com/channel/UCgyMIMxCZhZIZz6UzldPPFg/videos?view=0&sort=p&flow=grid'"
   ]
  },
  {
   "cell_type": "code",
   "execution_count": 6,
   "id": "f17eb117-b6bd-4dc6-9412-56b482297abb",
   "metadata": {},
   "outputs": [],
   "source": [
    "driver.get(urlPath)"
   ]
  },
  {
   "cell_type": "code",
   "execution_count": 15,
   "id": "098aba93-86f7-496e-bef9-441e57f13102",
   "metadata": {},
   "outputs": [],
   "source": [
    "from selenium.webdriver.common.by import By\n",
    "videos = driver.find_elements(By.CLASS_NAME, \"style-scope ytd-grid-video-renderer\")"
   ]
  },
  {
   "cell_type": "code",
   "execution_count": 20,
   "id": "dd43e44d-de59-414c-8f85-bebf63816645",
   "metadata": {},
   "outputs": [],
   "source": [
    "for video in videos:\n",
    "    titles = driver.find_elements(By.XPATH,'.//*[@id=\"video-title\"]')\n",
    "    views  = driver.find_elements(By.XPATH,'.//*[@id=\"metadata-line\"]/span[1]')\n",
    "\n",
    "    "
   ]
  },
  {
   "cell_type": "code",
   "execution_count": 19,
   "id": "fc0a36b7-e0a8-4add-aa4e-acc67669b4cb",
   "metadata": {},
   "outputs": [
    {
     "name": "stdout",
     "output_type": "stream",
     "text": [
      "Eliminating Indirect Left Recursion 1\n",
      "Introduction to Compiler\n",
      "Gray-scale Morphology Flat Structuring Element\n",
      "Linear & Bi-linear Interpolation\n",
      "Image Interpolation\n",
      "Nearest Neighborhood Interpolation\n",
      "Image Modalities\n",
      "Regular Expression\n",
      "Gray-scale Morphology Non-Flat Structuring Element\n",
      "Eliminating Indirect Left Recursion 2\n",
      "How to Construct a Parser Table for LL(1) Grammar\n",
      "How to Compute First Set\n",
      "Lexical Analysis Implementation\n",
      "Panic Mode\n",
      "Introduction to Theory of Automata\n",
      "How to Compute Follow Set\n",
      "Phases of Compiler\n",
      "Left Factor\n",
      "Eliminating Left Recursion\n",
      "Ambiguous Grammar\n",
      "Left Recursive vs Right Recursive Grammar\n",
      "Gray Level Slicing\n",
      "Finite Automata in CC\n",
      "Semantic Analysis Introduction P1\n",
      "Panic Mode Example\n",
      "Median Filter Example\n",
      "LL(1) Driver Simulation\n",
      "LL(1) Parsing in Table Format\n",
      "Eliminating Indirect Left Factoring\n",
      "Top Down Parser\n",
      "Wrting Rules for LL1 Grammar p1\n",
      "Three Address Code\n",
      "Propositional Logic Inference Mechanism on Wumpus World\n",
      "Semantic Analysis Introduction P2\n",
      "Three Address Code on Arrays\n",
      "Code Compilation\n",
      "Lexical Analysis Implementation 2\n",
      "S Attributed Grammar Translation\n",
      "Binary to Decimal Conversion Part 1\n",
      "Semantic Rules for Three Address Code\n",
      "Hough Transform in Polar Space\n",
      "Static Approach to Finite Automata\n",
      "Wrting Rules for LL1 Grammar p2\n",
      "Semantic Rule Creation for AST\n",
      "Wumpus World Solution Using Knowledge Base Agent\n",
      "Regular Expresson to NFA null using Kleene's Theorem\n",
      "Thresholding Example Octave\n",
      "Lexical Analysis Implementation 3\n",
      "L Attributed Grammar Translation\n",
      "Lexical Analysis Implementation 4\n",
      "In-Production Semantic Rules\n",
      "Recursive Decent Parser\n",
      "Binary to Decimal Conversion Part 2\n",
      "Connected Component Using 2 Pass Algorithm\n",
      "Depth First Search\n",
      "Image Padding\n",
      "Hough Transformation Line Segment\n",
      "Semantic Rules for Array Type Expression\n",
      "Histogram Equalization\n",
      "point processing\n",
      "Regular Expression for a language words as number divisible by 2\n",
      "CFG complex example\n",
      "Closure Property of DFA\n",
      "Morphological Image Processing\n",
      "Code Processing in Compiler with respect to lexical, syntax & semantic analysis phases\n",
      "How to construct a Deterministic Finite Automata (DFA)\n",
      "Morphological Opening & Closing Example Notes\n",
      "CFG an bn\n",
      "Regular Expression (RE) Examples\n",
      "Threshold Point Processing\n",
      "Bit Plane Slicing\n",
      "Contrast Stretching\n",
      "Neighbourhood Processing\n",
      "Image Gradient\n",
      "Iterative Deepening Search\n",
      "Cross Correlation\n",
      "Edge Detection in Action (Octave / Matlab)\n",
      "Cross Correlation vs Convolution 1\n",
      "Basics for Semantic Analysis\n",
      "Push Down Automata (PDA) Introductory\n",
      "Introduction to Language\n",
      "Morphological Opening & Closing\n",
      "Regular Expression for a language sum of digits in words divisible by 2\n",
      "Introduction to Finite Automata\n",
      "Point Processing Negative Image Example\n",
      "NFA Examples\n",
      "Subset Construction Method\n",
      "Erosion Dilation Examples on Octave\n",
      "Regular Expression\n",
      "Image Processing in Frequency Domain\n",
      "Genetic Algorithm\n",
      "CFG an bm and n is greater than m\n",
      "How to Detect Edge in a Noisy Image\n",
      "CFG an bm and m is greater than or equal to n\n",
      "Languages vs Set Operations\n",
      "Non Deterministic Finite Automata Explanation\n",
      "String Processing in Finite Automata\n",
      "Min Filter Example\n",
      "Null Elimination Method (NFA-null to NFA conversion)\n",
      "Cross Correlation vs Convolution 2\n",
      "DFA for language starting with \"aba\"\n",
      "How to Write a CFG | Complex Example\n",
      "Local Search in Action 1 (Python)\n",
      "PDA an bn\n",
      "How to Design a PDA | Complex Example | Part 1\n",
      "Conversion of CFG to CNF\n",
      "Noisy Images\n",
      "Taking complement of a DFA\n",
      "Deterministic Finite Automata to Regular Expression (DFA to RE)\n",
      "PDA Input Processing on an bn\n",
      "Types of Finite Automata\n",
      "Fundamentals of Image Processing\n",
      "How to Design a PDA | Complex Example | Part 2\n",
      "Designing a Filter From Equation\n",
      "PDA an bm n is greater than m\n",
      "Greedy Best First Search\n",
      "Image Formation\n",
      "Unsharp Masking\n",
      "Filter the Noisy 1\n",
      "PDA an b2n using multi push\n",
      "TSP GA\n",
      "Image Translation using Cross Correlation\n",
      "PDA an b2n using states\n",
      "Measuring Directional Changes\n",
      "GA Assignment Explanation\n",
      "ID A star Part 1\n",
      "Depth Limited Search\n",
      "A Star\n",
      "Gray-scale Morphology Discussion (Python)\n",
      "Filter the Noisy 2\n",
      "Max Filter Example\n",
      "K Mean Clustering Example\n",
      "Wumpus World Description\n",
      "Propositional Logic on KBA Solver 1\n",
      "Kmean Clustering Concept\n",
      "Morphology Examples (Octave)\n",
      "Knowledge Base Agent Idea\n",
      "Uniform Cost Search\n",
      "Basic Idea of Minimax Algorithm\n",
      "Pumping Lemma For Regular Language\n",
      "TM Example with Multi Tape wcw\n",
      "First Order Logic Examples\n",
      "Alpha Beta Pruning\n",
      "Breadth First Search\n",
      "BFS & DFS Implementation Part 1\n",
      "First Order Logic\n",
      "Basic Concept about Alpha Beta Pruning\n",
      "Minimax with Algorithmic Simulation\n",
      "Image Reading in Colab | Colab Introduction | Libraries Use in Colab | Drive utilization in Colab\n",
      "Heuristic\n",
      "Logic in KBA\n",
      "K Nearest Neighbor Algorithm\n",
      "ID A star Part 2\n",
      "Function Computation on TM Example x plus y\n",
      "Example of Pumping Lemma for CFL\n",
      "Introduction to Machine Learning\n",
      "TM Example with single tape an bn cn\n",
      "Pumping Lemma for Context-Free Language\n",
      "Introduction to Turing Machine\n",
      "Local Search in Action 2 (Python)\n",
      "CYK Algorithm\n",
      "Propositional Logic on KBA Solver 2\n",
      "Local Search in Action 3 (Python)\n",
      "Point Processing using COLAB | Visualization using Matplotlib | Code Practicing in Python\n",
      "BFS & DFS Implementation Part 2\n"
     ]
    }
   ],
   "source": [
    "for title in titles:\n",
    "    print(title.text)"
   ]
  },
  {
   "cell_type": "code",
   "execution_count": 23,
   "id": "895f90f9-4878-4f4b-be2e-f1e28b26a6fa",
   "metadata": {},
   "outputs": [
    {
     "name": "stdout",
     "output_type": "stream",
     "text": [
      "3.9K views\n",
      "3.3K views\n",
      "2.8K views\n",
      "2.8K views\n",
      "2K views\n",
      "1.5K views\n",
      "1.3K views\n",
      "1.2K views\n",
      "1.2K views\n",
      "1.2K views\n",
      "1.2K views\n",
      "1.1K views\n",
      "1.1K views\n",
      "1.1K views\n",
      "1.1K views\n",
      "1K views\n",
      "1K views\n",
      "1K views\n",
      "1K views\n",
      "982 views\n",
      "981 views\n",
      "969 views\n",
      "918 views\n",
      "916 views\n",
      "877 views\n",
      "868 views\n",
      "852 views\n",
      "820 views\n",
      "815 views\n",
      "813 views\n",
      "\n",
      "\n",
      "\n"
     ]
    }
   ],
   "source": [
    "for view in views:\n",
    "    print(view.text)"
   ]
  },
  {
   "cell_type": "code",
   "execution_count": null,
   "id": "07a2edb8-bbe2-454d-a107-fe67708aa82d",
   "metadata": {},
   "outputs": [],
   "source": []
  }
 ],
 "metadata": {
  "kernelspec": {
   "display_name": "Python 3 (ipykernel)",
   "language": "python",
   "name": "python3"
  },
  "language_info": {
   "codemirror_mode": {
    "name": "ipython",
    "version": 3
   },
   "file_extension": ".py",
   "mimetype": "text/x-python",
   "name": "python",
   "nbconvert_exporter": "python",
   "pygments_lexer": "ipython3",
   "version": "3.9.12"
  }
 },
 "nbformat": 4,
 "nbformat_minor": 5
}
