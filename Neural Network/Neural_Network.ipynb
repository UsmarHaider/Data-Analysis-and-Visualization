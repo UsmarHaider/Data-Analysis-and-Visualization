{
  "cells": [
    {
      "cell_type": "code",
      "execution_count": null,
      "metadata": {
        "id": "QpUFWzworlZX"
      },
      "outputs": [],
      "source": [
        "import numpy as np\n",
        "import pandas as pd\n",
        "import matplotlib.pyplot as plt"
      ]
    },
    {
      "cell_type": "code",
      "execution_count": null,
      "metadata": {
        "id": "zA61XomZrlZa",
        "outputId": "51b99de0-d408-4a78-d31d-b95d53a9a68b"
      },
      "outputs": [
        {
          "data": {
            "text/html": [
              "<div>\n",
              "<style scoped>\n",
              "    .dataframe tbody tr th:only-of-type {\n",
              "        vertical-align: middle;\n",
              "    }\n",
              "\n",
              "    .dataframe tbody tr th {\n",
              "        vertical-align: top;\n",
              "    }\n",
              "\n",
              "    .dataframe thead th {\n",
              "        text-align: right;\n",
              "    }\n",
              "</style>\n",
              "<table border=\"1\" class=\"dataframe\">\n",
              "  <thead>\n",
              "    <tr style=\"text-align: right;\">\n",
              "      <th></th>\n",
              "      <th>Neural Networks using Gradient Decent (XNOR Problem)</th>\n",
              "      <th>Unnamed: 1</th>\n",
              "      <th>Unnamed: 2</th>\n",
              "      <th>Unnamed: 3</th>\n",
              "      <th>Unnamed: 4</th>\n",
              "      <th>Unnamed: 5</th>\n",
              "      <th>Unnamed: 6</th>\n",
              "      <th>Unnamed: 7</th>\n",
              "      <th>Unnamed: 8</th>\n",
              "      <th>Unnamed: 9</th>\n",
              "      <th>Unnamed: 10</th>\n",
              "      <th>Unnamed: 11</th>\n",
              "      <th>Unnamed: 12</th>\n",
              "      <th>Unnamed: 13</th>\n",
              "      <th>Unnamed: 14</th>\n",
              "    </tr>\n",
              "  </thead>\n",
              "  <tbody>\n",
              "    <tr>\n",
              "      <th>0</th>\n",
              "      <td>NaN</td>\n",
              "      <td>NaN</td>\n",
              "      <td>NaN</td>\n",
              "      <td>NaN</td>\n",
              "      <td>NaN</td>\n",
              "      <td>NaN</td>\n",
              "      <td>NaN</td>\n",
              "      <td>NaN</td>\n",
              "      <td>NaN</td>\n",
              "      <td>NaN</td>\n",
              "      <td>NaN</td>\n",
              "      <td>NaN</td>\n",
              "      <td>NaN</td>\n",
              "      <td>NaN</td>\n",
              "      <td>NaN</td>\n",
              "    </tr>\n",
              "    <tr>\n",
              "      <th>1</th>\n",
              "      <td>i1</td>\n",
              "      <td>i2</td>\n",
              "      <td>w11</td>\n",
              "      <td>w12</td>\n",
              "      <td>w21</td>\n",
              "      <td>w22</td>\n",
              "      <td>h1</td>\n",
              "      <td>h2</td>\n",
              "      <td>wh1</td>\n",
              "      <td>wh2</td>\n",
              "      <td>o</td>\n",
              "      <td>t</td>\n",
              "      <td>Eo</td>\n",
              "      <td>Eh1</td>\n",
              "      <td>Eh2</td>\n",
              "    </tr>\n",
              "    <tr>\n",
              "      <th>2</th>\n",
              "      <td>0.0</td>\n",
              "      <td>0.0</td>\n",
              "      <td>1.110624</td>\n",
              "      <td>1.110324</td>\n",
              "      <td>1.23779</td>\n",
              "      <td>1.110324</td>\n",
              "      <td>0.5</td>\n",
              "      <td>0.5</td>\n",
              "      <td>1.204297</td>\n",
              "      <td>1.203004</td>\n",
              "      <td>0.769173</td>\n",
              "      <td>1.0</td>\n",
              "      <td>0.230827</td>\n",
              "      <td>0.115475</td>\n",
              "      <td>0.115351</td>\n",
              "    </tr>\n",
              "    <tr>\n",
              "      <th>3</th>\n",
              "      <td>0.0</td>\n",
              "      <td>1.0</td>\n",
              "      <td>1.110624</td>\n",
              "      <td>1.110324</td>\n",
              "      <td>1.23779</td>\n",
              "      <td>1.110324</td>\n",
              "      <td>0.775179</td>\n",
              "      <td>0.752189</td>\n",
              "      <td>1.204297</td>\n",
              "      <td>1.203004</td>\n",
              "      <td>0.862763</td>\n",
              "      <td>0.0</td>\n",
              "      <td>-0.862763</td>\n",
              "      <td>-0.431613</td>\n",
              "      <td>-0.43115</td>\n",
              "    </tr>\n",
              "    <tr>\n",
              "      <th>4</th>\n",
              "      <td>1.0</td>\n",
              "      <td>0.0</td>\n",
              "      <td>1.110624</td>\n",
              "      <td>1.110324</td>\n",
              "      <td>1.23779</td>\n",
              "      <td>1.110324</td>\n",
              "      <td>0.752245</td>\n",
              "      <td>0.752189</td>\n",
              "      <td>1.204297</td>\n",
              "      <td>1.203004</td>\n",
              "      <td>0.85946</td>\n",
              "      <td>0.0</td>\n",
              "      <td>-0.85946</td>\n",
              "      <td>-0.429961</td>\n",
              "      <td>-0.429499</td>\n",
              "    </tr>\n",
              "  </tbody>\n",
              "</table>\n",
              "</div>"
            ],
            "text/plain": [
              "  Neural Networks using Gradient Decent (XNOR Problem) Unnamed: 1 Unnamed: 2  \\\n",
              "0                                                NaN          NaN        NaN   \n",
              "1                                                 i1           i2        w11   \n",
              "2                                                0.0          0.0   1.110624   \n",
              "3                                                0.0          1.0   1.110624   \n",
              "4                                                1.0          0.0   1.110624   \n",
              "\n",
              "  Unnamed: 3 Unnamed: 4 Unnamed: 5 Unnamed: 6 Unnamed: 7 Unnamed: 8  \\\n",
              "0        NaN        NaN        NaN        NaN        NaN        NaN   \n",
              "1        w12        w21        w22         h1         h2        wh1   \n",
              "2   1.110324    1.23779   1.110324        0.5        0.5   1.204297   \n",
              "3   1.110324    1.23779   1.110324   0.775179   0.752189   1.204297   \n",
              "4   1.110324    1.23779   1.110324   0.752245   0.752189   1.204297   \n",
              "\n",
              "  Unnamed: 9 Unnamed: 10 Unnamed: 11 Unnamed: 12 Unnamed: 13 Unnamed: 14  \n",
              "0        NaN         NaN         NaN         NaN         NaN         NaN  \n",
              "1        wh2           o           t          Eo         Eh1         Eh2  \n",
              "2   1.203004    0.769173         1.0    0.230827    0.115475    0.115351  \n",
              "3   1.203004    0.862763         0.0   -0.862763   -0.431613    -0.43115  \n",
              "4   1.203004     0.85946         0.0    -0.85946   -0.429961   -0.429499  "
            ]
          },
          "execution_count": 2,
          "metadata": {},
          "output_type": "execute_result"
        }
      ],
      "source": [
        "df = pd.read_excel('Neural Networks In Action.xlsx', sheet_name='Sheet1')\n",
        "df.head()"
      ]
    },
    {
      "cell_type": "code",
      "execution_count": null,
      "metadata": {
        "id": "pxEeLwNarlZc"
      },
      "outputs": [],
      "source": [
        "X = df.iloc[2:6, 0:2].values\n",
        "Y = df.iloc[2:6, 11].values\n",
        "\n",
        "# make X and Y as float\n",
        "X = X.astype(float)\n",
        "Y = Y.astype(float)\n",
        "\n",
        "# Transpose X and Y\n",
        "X = X.T\n",
        "\n",
        "# Reshape Y\n",
        "Y = Y.reshape(1, Y.shape[0])\n"
      ]
    },
    {
      "cell_type": "code",
      "execution_count": null,
      "metadata": {
        "id": "aS1rlj_PrlZc"
      },
      "outputs": [],
      "source": [
        "def sigmoid(x):\n",
        "    return 1 / (1 + np.exp(-x))"
      ]
    },
    {
      "cell_type": "code",
      "execution_count": null,
      "metadata": {
        "id": "Ox4_aEvrrlZd"
      },
      "outputs": [],
      "source": [
        "def initializeParameters(inputFeatures, neuronsInHiddenLayer, outputFeatures):\n",
        "    W1 = np.random.randn(neuronsInHiddenLayer, inputFeatures)\n",
        "    W2 = np.random.randn(outputFeatures, neuronsInHiddenLayer)\n",
        "    b1 = np.zeros((neuronsInHiddenLayer, 1))\n",
        "    b2 = np.zeros((outputFeatures, 1))\n",
        "    parameters = {\"W1\": W1, \"b1\": b1, \"W2\": W2, \"b2\": b2}\n",
        "    return parameters"
      ]
    },
    {
      "cell_type": "code",
      "execution_count": null,
      "metadata": {
        "id": "qJwIawwjrlZd"
      },
      "outputs": [],
      "source": [
        "def forwardPropagation(X, Y, parameters):\n",
        "    W1 = parameters['W1']\n",
        "    W2 = parameters['W2']\n",
        "    b1 = parameters['b1']\n",
        "    b2 = parameters['b2']\n",
        "\n",
        "    Z1 = np.dot(W1, X) + b1\n",
        "    A1 = sigmoid(Z1)\n",
        "\n",
        "    Z2 = np.dot(W2, A1) + b2\n",
        "    A2 = sigmoid(Z2)\n",
        "\n",
        "    m = X.shape[1]\n",
        "\n",
        "    cache = (Z1, A1, W1, b1, Z2, A2, W2, b2)\n",
        "\n",
        "    logprobs = np.multiply(np.log(A2), Y) + np.multiply(np.log(1 - A2), (1 - Y))\n",
        "    cost = - np.sum(logprobs) / m\n",
        "    return cost, cache, A2"
      ]
    },
    {
      "cell_type": "code",
      "execution_count": null,
      "metadata": {
        "id": "8HN24H2NrlZd"
      },
      "outputs": [],
      "source": [
        "def backwardPropagation(X, Y, cache):\n",
        "    m = X.shape[1]\n",
        "    (Z1, A1, W1, b1, Z2, A2, W2, b2) = cache\n",
        "\n",
        "    dZ2 = A2 - Y\n",
        "    dW2 = np.dot(dZ2, A1.T) / m\n",
        "    db2 = np.sum(dZ2, axis=1, keepdims=True)\n",
        "\n",
        "    dA1 = np.dot(W2.T, dZ2)\n",
        "    dZ1 = np.multiply(dA1,A1*(1-A1))\n",
        "    dW1 = np.dot(dZ1, X.T) / m\n",
        "    db1 = np.sum(dZ1, axis=1, keepdims=True) / m\n",
        "\n",
        "    grads = {\"dZ2\": dZ2, \"dW2\": dW2, \"db2\": db2,\n",
        "            \"dZ1\": dZ1, \"dW1\": dW1, \"db1\": db1}\n",
        "\n",
        "    return grads"
      ]
    },
    {
      "cell_type": "code",
      "execution_count": null,
      "metadata": {
        "id": "uqzf5SAHrlZe"
      },
      "outputs": [],
      "source": [
        "def updateParameters(parameters, gradients, learningRate):\n",
        "    parameters['W1'] = parameters['W1'] - learningRate * gradients['dW1']\n",
        "    parameters['b1'] = parameters['b1'] - learningRate * gradients['db1']\n",
        "    parameters['W2'] = parameters['W2'] - learningRate * gradients['dW2']\n",
        "    parameters['b2'] = parameters['b2'] - learningRate * gradients['db2']\n",
        "    return parameters"
      ]
    },
    {
      "cell_type": "code",
      "execution_count": null,
      "metadata": {
        "id": "qFiw44b2rlZe"
      },
      "outputs": [],
      "source": [
        "neuronsInHiddenLayer = 2\n",
        "inputFeatures = X.shape[0]\n",
        "outputFeatures = Y.shape[0]\n",
        "\n",
        "param = initializeParameters(inputFeatures, neuronsInHiddenLayer, outputFeatures)\n",
        "\n",
        "epochs = 10000\n",
        "learningRate = 0.01\n",
        "losses = np.zeros((epochs, 1))"
      ]
    },
    {
      "cell_type": "code",
      "execution_count": null,
      "metadata": {
        "id": "dKg-BMqyrlZf"
      },
      "outputs": [],
      "source": [
        "for i in range(epochs):\n",
        "    losses[i, 0], cache, A2 = forwardPropagation(X, Y, param)\n",
        "    grads = backwardPropagation(X, Y, cache)\n",
        "    param = updateParameters(param, grads, learningRate)"
      ]
    },
    {
      "cell_type": "code",
      "execution_count": null,
      "metadata": {
        "id": "ZnwMjtg1rlZf",
        "outputId": "1227a4ef-b6de-40a6-bf9b-3b05c46dc4f8"
      },
      "outputs": [
        {
          "data": {
            "image/png": "[encoded data removed]",
            "text/plain": [
              "<Figure size 432x288 with 1 Axes>"
            ]
          },
          "metadata": {
            "needs_background": "light"
          },
          "output_type": "display_data"
        }
      ],
      "source": [
        "plt.figure()\n",
        "plt.plot(losses)\n",
        "plt.xlabel('Epochs')\n",
        "plt.ylabel('Loss')\n",
        "plt.show()"
      ]
    },
    {
      "cell_type": "code",
      "execution_count": null,
      "metadata": {
        "id": "JIfRbWl0rlZf",
        "outputId": "2a158bb6-b71f-4bae-eb88-dd699a670ff1"
      },
      "outputs": [
        {
          "name": "stdout",
          "output_type": "stream",
          "text": [
            "Cost:  0.7182533754491507\n"
          ]
        }
      ],
      "source": [
        "X = np.array([[1, 1, 0, 0], [0, 1, 0, 1]])\n",
        "\n",
        "cost, _, A2 = forwardPropagation(X, Y, param)\n",
        "print('Cost: ', cost)"
      ]
    },
    {
      "cell_type": "code",
      "execution_count": null,
      "metadata": {
        "id": "3C3A9PKSrlZg",
        "outputId": "45a4bf3a-e5fc-4f03-c175-114e803b4e06"
      },
      "outputs": [
        {
          "name": "stdout",
          "output_type": "stream",
          "text": [
            "Prediction:  [[0. 0. 1. 0.]]\n"
          ]
        }
      ],
      "source": [
        "prediction = (A2 > 0.5)* 1.0\n",
        "print('Prediction: ', prediction)"
      ]
    },
    {
      "cell_type": "code",
      "execution_count": null,
      "metadata": {
        "id": "5l1WQzpQrlZg"
      },
      "outputs": [],
      "source": [
        "df1=pd.DataFrame({'X1':X[0, :],'X2':X[1, :],'Y':X[0, :],'Predictes':prediction[0,:] })"
      ]
    },
    {
      "cell_type": "code",
      "execution_count": null,
      "metadata": {
        "id": "97Uf4l-MrlZg",
        "outputId": "0d7e0e2d-0c67-44cd-8a67-a640941225cf"
      },
      "outputs": [
        {
          "data": {
            "text/html": [
              "<div>\n",
              "<style scoped>\n",
              "    .dataframe tbody tr th:only-of-type {\n",
              "        vertical-align: middle;\n",
              "    }\n",
              "\n",
              "    .dataframe tbody tr th {\n",
              "        vertical-align: top;\n",
              "    }\n",
              "\n",
              "    .dataframe thead th {\n",
              "        text-align: right;\n",
              "    }\n",
              "</style>\n",
              "<table border=\"1\" class=\"dataframe\">\n",
              "  <thead>\n",
              "    <tr style=\"text-align: right;\">\n",
              "      <th></th>\n",
              "      <th>X1</th>\n",
              "      <th>X2</th>\n",
              "      <th>Y</th>\n",
              "      <th>Predictes</th>\n",
              "    </tr>\n",
              "  </thead>\n",
              "  <tbody>\n",
              "    <tr>\n",
              "      <th>0</th>\n",
              "      <td>1</td>\n",
              "      <td>0</td>\n",
              "      <td>1</td>\n",
              "      <td>0.0</td>\n",
              "    </tr>\n",
              "    <tr>\n",
              "      <th>1</th>\n",
              "      <td>1</td>\n",
              "      <td>1</td>\n",
              "      <td>1</td>\n",
              "      <td>0.0</td>\n",
              "    </tr>\n",
              "    <tr>\n",
              "      <th>2</th>\n",
              "      <td>0</td>\n",
              "      <td>0</td>\n",
              "      <td>0</td>\n",
              "      <td>1.0</td>\n",
              "    </tr>\n",
              "    <tr>\n",
              "      <th>3</th>\n",
              "      <td>0</td>\n",
              "      <td>1</td>\n",
              "      <td>0</td>\n",
              "      <td>0.0</td>\n",
              "    </tr>\n",
              "  </tbody>\n",
              "</table>\n",
              "</div>"
            ],
            "text/plain": [
              "   X1  X2  Y  Predictes\n",
              "0   1   0  1        0.0\n",
              "1   1   1  1        0.0\n",
              "2   0   0  0        1.0\n",
              "3   0   1  0        0.0"
            ]
          },
          "execution_count": 15,
          "metadata": {},
          "output_type": "execute_result"
        }
      ],
      "source": [
        "df1"
      ]
    }
  ],
  "metadata": {
    "kernelspec": {
      "display_name": "Python 3 (ipykernel)",
      "language": "python",
      "name": "python3"
    },
    "language_info": {
      "codemirror_mode": {
        "name": "ipython",
        "version": 3
      },
      "file_extension": ".py",
      "mimetype": "text/x-python",
      "name": "python",
      "nbconvert_exporter": "python",
      "pygments_lexer": "ipython3",
      "version": "3.9.12"
    },
    "vscode": {
      "interpreter": {
        "hash": "aee8b7b246df8f9039afb4144a1f6fd8d2ca17a180786b69acc140d282b71a49"
      }
    },
    "colab": {
      "provenance": []
    }
  },
  "nbformat": 4,
  "nbformat_minor": 0
}